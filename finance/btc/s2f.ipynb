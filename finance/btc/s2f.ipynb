version https://git-lfs.github.com/spec/v1
oid sha256:cae87552c15a85bd94effd5d974dd6e6e44eb8446cbd10405f45d20345dfae87
size 403160
