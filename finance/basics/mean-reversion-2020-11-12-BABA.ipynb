version https://git-lfs.github.com/spec/v1
oid sha256:f506a4831fe1184ea7274567bcb8a4153d1ec8ce74ef9c93e91b3e81f1104695
size 235242
