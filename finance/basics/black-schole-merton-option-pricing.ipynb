version https://git-lfs.github.com/spec/v1
oid sha256:60077bd62d08b9248ea6a0f065c3de1250e0eaed60b6cad945d3a1f6ef0a5328
size 167713
